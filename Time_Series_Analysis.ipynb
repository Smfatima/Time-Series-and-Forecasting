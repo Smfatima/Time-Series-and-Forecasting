{
  "nbformat": 4,
  "nbformat_minor": 0,
  "metadata": {
    "colab": {
      "name": "Time Series Analysis",
      "provenance": [],
      "authorship_tag": "ABX9TyOw/mpN0SPPhCi4k+dPpvOU",
      "include_colab_link": true
    },
    "kernelspec": {
      "name": "python3",
      "display_name": "Python 3"
    }
  },
  "cells": [
    {
      "cell_type": "markdown",
      "metadata": {
        "id": "view-in-github",
        "colab_type": "text"
      },
      "source": [
        "<a href=\"https://colab.research.google.com/github/Smfatima/Time-Series-and-Forecasting/blob/main/Time_Series_Analysis.ipynb\" target=\"_parent\"><img src=\"https://colab.research.google.com/assets/colab-badge.svg\" alt=\"Open In Colab\"/></a>"
      ]
    },
    {
      "cell_type": "markdown",
      "metadata": {
        "id": "bxYe3-q-Q9uz"
      },
      "source": [
        "## All alogorithms used in univariate and multivariate time series."
      ]
    },
    {
      "cell_type": "code",
      "metadata": {
        "id": "l21n2onxCU23"
      },
      "source": [
        "#Import libraries\r\n",
        "import numpy as np\r\n",
        "import pandas as pd\r\n",
        "import os\r\n",
        "import matplotlib.pyplot as plt"
      ],
      "execution_count": 2,
      "outputs": []
    },
    {
      "cell_type": "markdown",
      "metadata": {
        "id": "PlO-SGFGEM9b"
      },
      "source": [
        "## Autoregression (AR)"
      ]
    },
    {
      "cell_type": "code",
      "metadata": {
        "colab": {
          "base_uri": "https://localhost:8080/",
          "height": 399
        },
        "id": "A_5FSJIDE6QZ",
        "outputId": "09e4e874-ac05-4d63-f2d2-ee74cf3d1e40"
      },
      "source": [
        "pip install statsmodels==0.11.1"
      ],
      "execution_count": 3,
      "outputs": [
        {
          "output_type": "stream",
          "text": [
            "Collecting statsmodels==0.11.1\n",
            "\u001b[?25l  Downloading https://files.pythonhosted.org/packages/cb/83/540fd83238a18abe6c2d280fa8e489ac5fcefa1f370f0ca1acd16ae1b860/statsmodels-0.11.1-cp36-cp36m-manylinux1_x86_64.whl (8.7MB)\n",
            "\u001b[K     |████████████████████████████████| 8.7MB 5.3MB/s \n",
            "\u001b[?25hRequirement already satisfied: numpy>=1.14 in /usr/local/lib/python3.6/dist-packages (from statsmodels==0.11.1) (1.19.5)\n",
            "Requirement already satisfied: pandas>=0.21 in /usr/local/lib/python3.6/dist-packages (from statsmodels==0.11.1) (1.1.5)\n",
            "Requirement already satisfied: patsy>=0.5 in /usr/local/lib/python3.6/dist-packages (from statsmodels==0.11.1) (0.5.1)\n",
            "Requirement already satisfied: scipy>=1.0 in /usr/local/lib/python3.6/dist-packages (from statsmodels==0.11.1) (1.4.1)\n",
            "Requirement already satisfied: pytz>=2017.2 in /usr/local/lib/python3.6/dist-packages (from pandas>=0.21->statsmodels==0.11.1) (2018.9)\n",
            "Requirement already satisfied: python-dateutil>=2.7.3 in /usr/local/lib/python3.6/dist-packages (from pandas>=0.21->statsmodels==0.11.1) (2.8.1)\n",
            "Requirement already satisfied: six in /usr/local/lib/python3.6/dist-packages (from patsy>=0.5->statsmodels==0.11.1) (1.15.0)\n",
            "Installing collected packages: statsmodels\n",
            "  Found existing installation: statsmodels 0.10.2\n",
            "    Uninstalling statsmodels-0.10.2:\n",
            "      Successfully uninstalled statsmodels-0.10.2\n",
            "Successfully installed statsmodels-0.11.1\n"
          ],
          "name": "stdout"
        },
        {
          "output_type": "display_data",
          "data": {
            "application/vnd.colab-display-data+json": {
              "pip_warning": {
                "packages": [
                  "statsmodels"
                ]
              }
            }
          },
          "metadata": {
            "tags": []
          }
        }
      ]
    },
    {
      "cell_type": "code",
      "metadata": {
        "colab": {
          "base_uri": "https://localhost:8080/"
        },
        "id": "XyjNnn9GEKgT",
        "outputId": "ec1d519e-19df-4f71-dbf7-54c233396d82"
      },
      "source": [
        "# AR example\r\n",
        "import statsmodels.api as sm\r\n",
        "from statsmodels.tsa.ar_model import AutoReg\r\n",
        "from random import random\r\n",
        "# contrived dataset\r\n",
        "old_names = True\r\n",
        "data = [x + random() for x in range(1, 100)]\r\n",
        "# fit model\r\n",
        "model = AutoReg(data, lags=1)\r\n",
        "model_fit = model.fit()\r\n",
        "# make predict\r\n",
        "yhat = model_fit.predict(len(data), len(data))\r\n",
        "print(yhat)"
      ],
      "execution_count": 4,
      "outputs": [
        {
          "output_type": "stream",
          "text": [
            "[100.50749179]\n"
          ],
          "name": "stdout"
        }
      ]
    },
    {
      "cell_type": "markdown",
      "metadata": {
        "id": "b31c5DFeH2S5"
      },
      "source": [
        "## Moving Regression (VR)\r\n",
        "\r\n",
        "The method is suitable for univariate time series without trend and seasonal components.\r\n"
      ]
    },
    {
      "cell_type": "code",
      "metadata": {
        "colab": {
          "base_uri": "https://localhost:8080/"
        },
        "id": "v7QkNjPXElm7",
        "outputId": "031b6472-d910-4b5d-cf0b-b7e5864f77cf"
      },
      "source": [
        "# MA example\r\n",
        "from statsmodels.tsa.arima.model import ARIMA\r\n",
        "from random import random\r\n",
        "# contrived dataset\r\n",
        "data = [x + random() for x in range(1, 100)]\r\n",
        "# fit model\r\n",
        "model = ARIMA(data, order=(0, 0, 1))\r\n",
        "model_fit = model.fit()\r\n",
        "# make prediction\r\n",
        "yhat = model_fit.predict(len(data), len(data))\r\n",
        "print(yhat)"
      ],
      "execution_count": 5,
      "outputs": [
        {
          "output_type": "stream",
          "text": [
            "[73.85277031]\n"
          ],
          "name": "stdout"
        },
        {
          "output_type": "stream",
          "text": [
            "/usr/local/lib/python3.6/dist-packages/statsmodels/tsa/statespace/sarimax.py:975: UserWarning: Non-invertible starting MA parameters found. Using zeros as starting parameters.\n",
            "  warn('Non-invertible starting MA parameters found.'\n"
          ],
          "name": "stderr"
        }
      ]
    },
    {
      "cell_type": "markdown",
      "metadata": {
        "id": "pO63RgMBIWVx"
      },
      "source": [
        "# Autoregressive Moving Average (ARMA)\r\n",
        "\r\n",
        "It combines both Autoregression (AR) and Moving Average (MA) models."
      ]
    },
    {
      "cell_type": "code",
      "metadata": {
        "colab": {
          "base_uri": "https://localhost:8080/"
        },
        "id": "6EJ1JI2CIHmC",
        "outputId": "f8fbf2b9-7a6a-407d-a780-28a3898eae63"
      },
      "source": [
        "# ARMA example\r\n",
        "from statsmodels.tsa.arima.model import ARIMA\r\n",
        "from random import random\r\n",
        "# contrived dataset\r\n",
        "data = [random() for x in range(1, 100)]\r\n",
        "# fit model\r\n",
        "model = ARIMA(data, order=(2, 0, 1))\r\n",
        "model_fit = model.fit()\r\n",
        "# make prediction\r\n",
        "yhat = model_fit.predict(len(data), len(data))\r\n",
        "print(yhat)"
      ],
      "execution_count": 6,
      "outputs": [
        {
          "output_type": "stream",
          "text": [
            "/usr/local/lib/python3.6/dist-packages/statsmodels/tsa/statespace/sarimax.py:963: UserWarning: Non-stationary starting autoregressive parameters found. Using zeros as starting parameters.\n",
            "  warn('Non-stationary starting autoregressive parameters'\n",
            "/usr/local/lib/python3.6/dist-packages/statsmodels/tsa/statespace/sarimax.py:975: UserWarning: Non-invertible starting MA parameters found. Using zeros as starting parameters.\n",
            "  warn('Non-invertible starting MA parameters found.'\n"
          ],
          "name": "stderr"
        },
        {
          "output_type": "stream",
          "text": [
            "[0.4497556]\n"
          ],
          "name": "stdout"
        }
      ]
    },
    {
      "cell_type": "markdown",
      "metadata": {
        "id": "fm6kSW02N6uq"
      },
      "source": [
        "# Autoregressive Integrated Moving Average (ARIMA)\r\n",
        "\r\n",
        "The method is suitable for univariate time series with trend and without seasonal components."
      ]
    },
    {
      "cell_type": "code",
      "metadata": {
        "id": "l4AEcyHQIkGV",
        "colab": {
          "base_uri": "https://localhost:8080/"
        },
        "outputId": "9e076c83-cc97-46d6-bd86-2af4d5b0d457"
      },
      "source": [
        "# ARIMA example\r\n",
        "from statsmodels.tsa.arima.model import ARIMA\r\n",
        "from random import random\r\n",
        "# contrived dataset\r\n",
        "data = [x + random() for x in range(1, 100)]\r\n",
        "# fit model\r\n",
        "model = ARIMA(data, order=(1, 1, 1))\r\n",
        "model_fit = model.fit()\r\n",
        "# make prediction\r\n",
        "yhat = model_fit.predict(len(data), len(data), typ='levels')\r\n",
        "print(yhat)"
      ],
      "execution_count": 7,
      "outputs": [
        {
          "output_type": "stream",
          "text": [
            "/usr/local/lib/python3.6/dist-packages/statsmodels/tsa/statespace/sarimax.py:963: UserWarning: Non-stationary starting autoregressive parameters found. Using zeros as starting parameters.\n",
            "  warn('Non-stationary starting autoregressive parameters'\n",
            "/usr/local/lib/python3.6/dist-packages/statsmodels/tsa/statespace/sarimax.py:975: UserWarning: Non-invertible starting MA parameters found. Using zeros as starting parameters.\n",
            "  warn('Non-invertible starting MA parameters found.'\n"
          ],
          "name": "stderr"
        },
        {
          "output_type": "stream",
          "text": [
            "[100.33589889]\n"
          ],
          "name": "stdout"
        }
      ]
    },
    {
      "cell_type": "markdown",
      "metadata": {
        "id": "VrSYL8-DOVul"
      },
      "source": [
        "# Seasonal Autoregressive Integrated Moving-Average (SARIMA)\r\n",
        "\r\n",
        "The method is suitable for univariate time series with trend and/or seasonal components."
      ]
    },
    {
      "cell_type": "code",
      "metadata": {
        "colab": {
          "base_uri": "https://localhost:8080/"
        },
        "id": "mGJp9qNOOOjp",
        "outputId": "9ccb4e68-4a15-4a4b-afc1-a0fdf0964589"
      },
      "source": [
        "# SARIMA example\r\n",
        "from statsmodels.tsa.statespace.sarimax import SARIMAX\r\n",
        "from random import random\r\n",
        "# contrived dataset\r\n",
        "data = [x + random() for x in range(1, 100)]\r\n",
        "# fit model\r\n",
        "model = SARIMAX(data, order=(1, 1, 1), seasonal_order=(0, 0, 0, 0))\r\n",
        "model_fit = model.fit(disp=False)\r\n",
        "# make prediction\r\n",
        "yhat = model_fit.predict(len(data), len(data))\r\n",
        "print(yhat)"
      ],
      "execution_count": 8,
      "outputs": [
        {
          "output_type": "stream",
          "text": [
            "/usr/local/lib/python3.6/dist-packages/statsmodels/tsa/statespace/sarimax.py:963: UserWarning: Non-stationary starting autoregressive parameters found. Using zeros as starting parameters.\n",
            "  warn('Non-stationary starting autoregressive parameters'\n"
          ],
          "name": "stderr"
        },
        {
          "output_type": "stream",
          "text": [
            "[100.14084777]\n"
          ],
          "name": "stdout"
        },
        {
          "output_type": "stream",
          "text": [
            "/usr/local/lib/python3.6/dist-packages/statsmodels/base/model.py:568: ConvergenceWarning: Maximum Likelihood optimization failed to converge. Check mle_retvals\n",
            "  \"Check mle_retvals\", ConvergenceWarning)\n"
          ],
          "name": "stderr"
        }
      ]
    },
    {
      "cell_type": "markdown",
      "metadata": {
        "id": "TgsEhAtOOv5w"
      },
      "source": [
        "# Seasonal Autoregressive Integrated Moving-Average with Exogenous Regressors (SARIMAX)\r\n",
        "\r\n",
        "The method is suitable for univariate time series with trend and/or seasonal components and exogenous variables."
      ]
    },
    {
      "cell_type": "code",
      "metadata": {
        "colab": {
          "base_uri": "https://localhost:8080/"
        },
        "id": "UsNbTRBDOpIA",
        "outputId": "2c012789-282c-4b24-9d89-fd64785f1bef"
      },
      "source": [
        "# SARIMAX example\r\n",
        "from statsmodels.tsa.statespace.sarimax import SARIMAX\r\n",
        "from random import random\r\n",
        "# contrived dataset\r\n",
        "data1 = [x + random() for x in range(1, 100)]\r\n",
        "data2 = [x + random() for x in range(101, 200)]\r\n",
        "# fit model\r\n",
        "model = SARIMAX(data1, exog=data2, order=(1, 1, 1), seasonal_order=(0, 0, 0, 0))\r\n",
        "model_fit = model.fit(disp=False)\r\n",
        "# make prediction\r\n",
        "exog2 = [200 + random()]\r\n",
        "yhat = model_fit.predict(len(data1), len(data1), exog=[exog2])\r\n",
        "print(yhat)"
      ],
      "execution_count": 9,
      "outputs": [
        {
          "output_type": "stream",
          "text": [
            "[100.84294468]\n"
          ],
          "name": "stdout"
        }
      ]
    },
    {
      "cell_type": "markdown",
      "metadata": {
        "id": "ktVINtMwPOAM"
      },
      "source": [
        "# Vector Autoregression (VAR)\r\n",
        "\r\n",
        "The method is suitable for multivariate time series without trend and seasonal components."
      ]
    },
    {
      "cell_type": "code",
      "metadata": {
        "colab": {
          "base_uri": "https://localhost:8080/"
        },
        "id": "HdvVHTBSO-2y",
        "outputId": "5451a746-72d5-42e1-bee9-5ebf8fb088f6"
      },
      "source": [
        "# VAR example\r\n",
        "from statsmodels.tsa.vector_ar.var_model import VAR\r\n",
        "from random import random\r\n",
        "# contrived dataset with dependency\r\n",
        "data = list()\r\n",
        "for i in range(100):\r\n",
        "    v1 = i + random()\r\n",
        "    v2 = v1 + random()\r\n",
        "    row = [v1, v2]\r\n",
        "    data.append(row)\r\n",
        "# fit model\r\n",
        "model = VAR(data)\r\n",
        "model_fit = model.fit()\r\n",
        "# make prediction\r\n",
        "yhat = model_fit.forecast(model_fit.y, steps=1)\r\n",
        "print(yhat)"
      ],
      "execution_count": 10,
      "outputs": [
        {
          "output_type": "stream",
          "text": [
            "[[100.702399   101.23275262]]\n"
          ],
          "name": "stdout"
        },
        {
          "output_type": "stream",
          "text": [
            "/usr/local/lib/python3.6/dist-packages/statsmodels/base/wrapper.py:36: FutureWarning: y is a deprecated alias for endog, will be removed in version 0.11.0\n",
            "  obj = getattr(results, attr)\n"
          ],
          "name": "stderr"
        }
      ]
    },
    {
      "cell_type": "markdown",
      "metadata": {
        "id": "9V-P-gEAPk4H"
      },
      "source": [
        "# Vector Autoregression Moving-Average (VARMA)\r\n",
        "\r\n",
        "The method is suitable for multivariate time series without trend and seasonal components."
      ]
    },
    {
      "cell_type": "code",
      "metadata": {
        "colab": {
          "base_uri": "https://localhost:8080/"
        },
        "id": "C2iVSMDhPetC",
        "outputId": "97500c16-26bb-490e-d5ee-f2d43bc0bebd"
      },
      "source": [
        "# VARMA example\r\n",
        "from statsmodels.tsa.statespace.varmax import VARMAX\r\n",
        "from random import random\r\n",
        "# contrived dataset with dependency\r\n",
        "data = list()\r\n",
        "for i in range(100):\r\n",
        "    v1 = random()\r\n",
        "    v2 = v1 + random()\r\n",
        "    row = [v1, v2]\r\n",
        "    data.append(row)\r\n",
        "# fit model\r\n",
        "model = VARMAX(data, order=(1, 1))\r\n",
        "model_fit = model.fit(disp=False)\r\n",
        "# make prediction\r\n",
        "yhat = model_fit.forecast()\r\n",
        "print(yhat)"
      ],
      "execution_count": 11,
      "outputs": [
        {
          "output_type": "stream",
          "text": [
            "/usr/local/lib/python3.6/dist-packages/statsmodels/tsa/statespace/varmax.py:163: EstimationWarning: Estimation of VARMA(p,q) models is not generically robust, due especially to identification issues.\n",
            "  EstimationWarning)\n"
          ],
          "name": "stderr"
        },
        {
          "output_type": "stream",
          "text": [
            "[[0.44325146 0.9266717 ]]\n"
          ],
          "name": "stdout"
        },
        {
          "output_type": "stream",
          "text": [
            "/usr/local/lib/python3.6/dist-packages/statsmodels/base/model.py:568: ConvergenceWarning: Maximum Likelihood optimization failed to converge. Check mle_retvals\n",
            "  \"Check mle_retvals\", ConvergenceWarning)\n",
            "/usr/local/lib/python3.6/dist-packages/statsmodels/tsa/statespace/varmax.py:163: EstimationWarning: Estimation of VARMA(p,q) models is not generically robust, due especially to identification issues.\n",
            "  EstimationWarning)\n"
          ],
          "name": "stderr"
        }
      ]
    },
    {
      "cell_type": "markdown",
      "metadata": {
        "id": "n05lYieMP4iR"
      },
      "source": [
        "# Vector Autoregression Moving-Average with Exogenous Regressors (VARMAX)\r\n",
        "\r\n",
        "The method is suitable for multivariate time series without trend and seasonal components with exogenous variables."
      ]
    },
    {
      "cell_type": "code",
      "metadata": {
        "colab": {
          "base_uri": "https://localhost:8080/"
        },
        "id": "DwDDo5lwP007",
        "outputId": "4dbc8d72-c74b-4a67-dcc9-eaa99fc0415b"
      },
      "source": [
        "# VARMAX example\r\n",
        "from statsmodels.tsa.statespace.varmax import VARMAX\r\n",
        "from random import random\r\n",
        "# contrived dataset with dependency\r\n",
        "data = list()\r\n",
        "for i in range(100):\r\n",
        "    v1 = random()\r\n",
        "    v2 = v1 + random()\r\n",
        "    row = [v1, v2]\r\n",
        "    data.append(row)\r\n",
        "data_exog = [x + random() for x in range(100)]\r\n",
        "# fit model\r\n",
        "model = VARMAX(data, exog=data_exog, order=(1, 1))\r\n",
        "model_fit = model.fit(disp=False)\r\n",
        "# make prediction\r\n",
        "data_exog2 = [[100]]\r\n",
        "yhat = model_fit.forecast(exog=data_exog2)\r\n",
        "print(yhat)"
      ],
      "execution_count": 12,
      "outputs": [
        {
          "output_type": "stream",
          "text": [
            "/usr/local/lib/python3.6/dist-packages/statsmodels/tsa/statespace/varmax.py:163: EstimationWarning: Estimation of VARMA(p,q) models is not generically robust, due especially to identification issues.\n",
            "  EstimationWarning)\n"
          ],
          "name": "stderr"
        },
        {
          "output_type": "stream",
          "text": [
            "[[0.49727627 1.02563815]]\n"
          ],
          "name": "stdout"
        },
        {
          "output_type": "stream",
          "text": [
            "/usr/local/lib/python3.6/dist-packages/statsmodels/tsa/statespace/varmax.py:163: EstimationWarning: Estimation of VARMA(p,q) models is not generically robust, due especially to identification issues.\n",
            "  EstimationWarning)\n",
            "/usr/local/lib/python3.6/dist-packages/statsmodels/tsa/statespace/varmax.py:163: EstimationWarning: Estimation of VARMA(p,q) models is not generically robust, due especially to identification issues.\n",
            "  EstimationWarning)\n"
          ],
          "name": "stderr"
        }
      ]
    },
    {
      "cell_type": "markdown",
      "metadata": {
        "id": "zERoXsVZQIXZ"
      },
      "source": [
        "# Simple Exponential Smoothing (SES)\r\n",
        "\r\n",
        "The method is suitable for univariate time series without trend and seasonal components."
      ]
    },
    {
      "cell_type": "code",
      "metadata": {
        "colab": {
          "base_uri": "https://localhost:8080/"
        },
        "id": "Hi1IBaVFQGT2",
        "outputId": "32c1ac17-afba-447b-bccd-dcac2a6147e6"
      },
      "source": [
        "# SES example\r\n",
        "from statsmodels.tsa.holtwinters import SimpleExpSmoothing\r\n",
        "from random import random\r\n",
        "# contrived dataset\r\n",
        "data = [x + random() for x in range(1, 100)]\r\n",
        "# fit model\r\n",
        "model = SimpleExpSmoothing(data)\r\n",
        "model_fit = model.fit()\r\n",
        "# make prediction\r\n",
        "yhat = model_fit.predict(len(data), len(data))\r\n",
        "print(yhat)"
      ],
      "execution_count": 13,
      "outputs": [
        {
          "output_type": "stream",
          "text": [
            "[99.69487406]\n"
          ],
          "name": "stdout"
        }
      ]
    },
    {
      "cell_type": "markdown",
      "metadata": {
        "id": "72uVJ6e0Qo0G"
      },
      "source": [
        "# Holt Winter’s Exponential Smoothing (HWES)\r\n",
        "\r\n",
        "The method is suitable for univariate time series with trend and/or seasonal components."
      ]
    },
    {
      "cell_type": "code",
      "metadata": {
        "colab": {
          "base_uri": "https://localhost:8080/"
        },
        "id": "Dahok9EpQnLc",
        "outputId": "e73523c6-7be0-4f42-aa7f-71b996c07fe5"
      },
      "source": [
        "# HWES example\r\n",
        "from statsmodels.tsa.holtwinters import ExponentialSmoothing\r\n",
        "from random import random\r\n",
        "# contrived dataset\r\n",
        "data = [x + random() for x in range(1, 100)]\r\n",
        "# fit model\r\n",
        "model = ExponentialSmoothing(data)\r\n",
        "model_fit = model.fit()\r\n",
        "# make prediction\r\n",
        "yhat = model_fit.predict(len(data), len(data))\r\n",
        "print(yhat)"
      ],
      "execution_count": 14,
      "outputs": [
        {
          "output_type": "stream",
          "text": [
            "[99.60455779]\n"
          ],
          "name": "stdout"
        }
      ]
    }
  ]
}